{
  "nbformat": 4,
  "nbformat_minor": 0,
  "metadata": {
    "colab": {
      "provenance": [],
      "authorship_tag": "ABX9TyOPMRiPbWE9Qxg6DGNZisrp",
      "include_colab_link": true
    },
    "kernelspec": {
      "name": "python3",
      "display_name": "Python 3"
    },
    "language_info": {
      "name": "python"
    }
  },
  "cells": [
    {
      "cell_type": "markdown",
      "metadata": {
        "id": "view-in-github",
        "colab_type": "text"
      },
      "source": [
        "<a href=\"https://colab.research.google.com/github/Hafiz-wave/Python-Notes/blob/main/3_String_Indexing_and_Python_Data_Structure.ipynb\" target=\"_parent\"><img src=\"https://colab.research.google.com/assets/colab-badge.svg\" alt=\"Open In Colab\"/></a>"
      ]
    },
    {
      "cell_type": "markdown",
      "source": [
        "# **String Indexing & Python Data Structure**\n",
        "\n",
        "\n",
        "\n",
        "## **Table of Contents**\n",
        "\n",
        "\n",
        "\n",
        "\n",
        "# **Section 4: String Indexing**\n",
        "\n",
        "\n",
        "*   section 4.1: Word Index\n",
        "*   section 4.2: Index Slicing\n",
        "*   section 4.3: Concatenate Strings\n",
        "\n",
        "\n",
        "\n",
        "# **Section 5: Python Data Structure**\n",
        "\n",
        "\n",
        "## **section 5.1: List**\n",
        "\n",
        "*   section 5.1.1: Extend Function\n",
        "*   section 5.1.2: Append Function\n",
        "*   section 5.1.3: Deleting Items\n",
        "*   section 5.1.4: Count Funtion\n",
        "*   section 5.1.5: Remove Function\n",
        "*   section 5.1.6: Insert Function\n",
        "*   section 5.1.7: Reverse Function\n",
        "\n",
        "\n",
        "\n",
        "## **section 5.2: Tuple**\n",
        "\n",
        "\n",
        "\n",
        "*   section 5.2.1: Comparison Between List And Tuple\n",
        "*   section 5.2.2: Sort Function In Tuple\n",
        "*   section 5.2.3: Convert Tuple Into A List\n",
        "\n",
        "\n",
        "\n",
        "## **section 5.3: Set**\n",
        "\n",
        "\n",
        "*   section 5.3.1: Defining A Set\n",
        "*   section 5.3.2: Set Removes Duplicates\n",
        "*   section 5.3.3 Uppercase and lowercase in Set\n",
        "*   section 5.3.4: Add Function in A Set\n",
        "*   section 5.3.5: Remove Function in A Set\n",
        "*   section 5.3.6: Intersection in A Set\n",
        "*   section 5.3.7: Union Function in A Set\n",
        "*   section 5.3.8: Converting A Set Into A list\n",
        "*   section 5.3.9: Difference Function in A Set\n",
        "\n",
        "\n",
        "## **section 5.4: Dictionary**\n",
        "\n",
        "\n",
        "*   section 5.4.1: Defining The Dictionary\n",
        "*   section 5.4.2: Finding Value of The Key\n",
        "*   section 5.4.3: Finding The Key Name\n",
        "*   section 5.4.4: Updating Value of A Key\n",
        "*   section 5.4.5: Delete Function In Dictionary\n",
        "*   section 5.4.6: Key is Unique"
      ],
      "metadata": {
        "id": "81OeAeuSlxYK"
      }
    },
    {
      "cell_type": "markdown",
      "source": [
        "# **Section 4: String Indexing**\n",
        "\n",
        "\n",
        "The function of string indexing is to having a refence of something"
      ],
      "metadata": {
        "id": "RBjc63MSSf-p"
      }
    },
    {
      "cell_type": "code",
      "execution_count": 1,
      "metadata": {
        "id": "gGIQFJaPkSOw"
      },
      "outputs": [],
      "source": [
        "singer = 'Michael Jackson'"
      ]
    },
    {
      "cell_type": "code",
      "source": [
        "singer"
      ],
      "metadata": {
        "colab": {
          "base_uri": "https://localhost:8080/",
          "height": 35
        },
        "id": "z9HE4znRSyqg",
        "outputId": "3bdd2144-e727-4f3d-8609-15b50fe904e6"
      },
      "execution_count": 2,
      "outputs": [
        {
          "output_type": "execute_result",
          "data": {
            "text/plain": [
              "'Michael Jackson'"
            ],
            "application/vnd.google.colaboratory.intrinsic+json": {
              "type": "string"
            }
          },
          "metadata": {},
          "execution_count": 2
        }
      ]
    },
    {
      "cell_type": "code",
      "source": [
        "type(singer)"
      ],
      "metadata": {
        "colab": {
          "base_uri": "https://localhost:8080/"
        },
        "id": "W_LfOULmS2uf",
        "outputId": "c22eb4e7-faf3-4fb6-cf2e-3e65ca1dc0d3"
      },
      "execution_count": 3,
      "outputs": [
        {
          "output_type": "execute_result",
          "data": {
            "text/plain": [
              "str"
            ]
          },
          "metadata": {},
          "execution_count": 3
        }
      ]
    },
    {
      "cell_type": "markdown",
      "source": [
        "# **Section 4.1: Word Index**\n",
        "\n",
        "the print (variable[numnber]) will show us the letter on the respective number\n",
        "\n",
        "singer = \"some string value\"\n",
        "Example value for the variable singer\n",
        "print(singer)\n",
        " Prints the entire string\n",
        "\n",
        "print(singer[2]) # Prints the character at index 2 print(singer[5]) # Prints the character at index 5 print(singer[10]) # Prints the character at index 10 print(singer[13]) # Prints the character at index 13"
      ],
      "metadata": {
        "id": "oCLWUgUYS_it"
      }
    },
    {
      "cell_type": "code",
      "source": [
        "print (singer)\n",
        "print (singer[2])\n",
        "print (singer[5])\n",
        "print (singer[10])\n",
        "print (singer[13])"
      ],
      "metadata": {
        "colab": {
          "base_uri": "https://localhost:8080/"
        },
        "id": "V9uKbqTDTSQX",
        "outputId": "7ae579b0-89a6-4ff0-f705-fde8751e3977"
      },
      "execution_count": 4,
      "outputs": [
        {
          "output_type": "stream",
          "name": "stdout",
          "text": [
            "Michael Jackson\n",
            "c\n",
            "e\n",
            "c\n",
            "o\n"
          ]
        }
      ]
    },
    {
      "cell_type": "markdown",
      "source": [
        "## **Left to right use positive numbering**\n",
        "\n",
        "<img src=\"https://s3-api.us-geo.objectstorage.softlayer.net/cf-courses-data/CognitiveClass/PY0101EN/Chapter%201/Images/StringsIndex.png\" width=\"600\" align=\"center\" />\n",
        "\n",
        "\n"
      ],
      "metadata": {
        "id": "NxiYh9HnTvvU"
      }
    },
    {
      "cell_type": "markdown",
      "source": [
        "## **We can also do it in reverse from right to left (using negative number)**\n",
        "\n",
        "<img src=\"https://s3-api.us-geo.objectstorage.softlayer.net/cf-courses-data/CognitiveClass/PY0101EN/Chapter%201/Images/StringsNeg.png\" width=\"600\" align=\"center\" />\n",
        "\n",
        "tip: always use index -1 to print last character to make the counting easier"
      ],
      "metadata": {
        "id": "j0BCePsqUX49"
      }
    },
    {
      "cell_type": "code",
      "source": [
        "print (singer [-13])\n",
        "print (singer[10])\n",
        "print (singer[-2])"
      ],
      "metadata": {
        "colab": {
          "base_uri": "https://localhost:8080/"
        },
        "id": "kno6wfo4U7pN",
        "outputId": "c4d6b4a6-7d35-4c1b-f3ec-c2492f31fc55"
      },
      "execution_count": 5,
      "outputs": [
        {
          "output_type": "stream",
          "name": "stdout",
          "text": [
            "c\n",
            "c\n",
            "o\n"
          ]
        }
      ]
    },
    {
      "cell_type": "markdown",
      "source": [
        "# **Print the last, second last and first, and the second of any string**"
      ],
      "metadata": {
        "id": "KaU1Q4JWVHL0"
      }
    },
    {
      "cell_type": "code",
      "source": [
        "\n",
        "##Count Function\n",
        "#counting the frequency of an item in a list\n",
        "#counting how many time an item appeared in the list\n",
        "#First\n",
        "print (anystring[0])\n",
        "#Second\n",
        "print (anystring[1])\n",
        "#Last (will always be -1 to make it easier to count)\n",
        "print (anytstring[-1])\n",
        "#Second last (will always be -2)\n",
        "print (anystring[-2])"
      ],
      "metadata": {
        "colab": {
          "base_uri": "https://localhost:8080/",
          "height": 211
        },
        "id": "WkKVerpaVCXm",
        "outputId": "f68a4135-1f34-4394-ad9e-84ce4571814a"
      },
      "execution_count": 7,
      "outputs": [
        {
          "output_type": "error",
          "ename": "NameError",
          "evalue": "name 'anystring' is not defined",
          "traceback": [
            "\u001b[0;31m---------------------------------------------------------------------------\u001b[0m",
            "\u001b[0;31mNameError\u001b[0m                                 Traceback (most recent call last)",
            "\u001b[0;32m<ipython-input-7-3cbef3287817>\u001b[0m in \u001b[0;36m<cell line: 5>\u001b[0;34m()\u001b[0m\n\u001b[1;32m      3\u001b[0m \u001b[0;31m#counting how many time an item appeared in the list\u001b[0m\u001b[0;34m\u001b[0m\u001b[0;34m\u001b[0m\u001b[0m\n\u001b[1;32m      4\u001b[0m \u001b[0;31m#First\u001b[0m\u001b[0;34m\u001b[0m\u001b[0;34m\u001b[0m\u001b[0m\n\u001b[0;32m----> 5\u001b[0;31m \u001b[0mprint\u001b[0m \u001b[0;34m(\u001b[0m\u001b[0manystring\u001b[0m\u001b[0;34m[\u001b[0m\u001b[0;36m0\u001b[0m\u001b[0;34m]\u001b[0m\u001b[0;34m)\u001b[0m\u001b[0;34m\u001b[0m\u001b[0;34m\u001b[0m\u001b[0m\n\u001b[0m\u001b[1;32m      6\u001b[0m \u001b[0;31m#Second\u001b[0m\u001b[0;34m\u001b[0m\u001b[0;34m\u001b[0m\u001b[0m\n\u001b[1;32m      7\u001b[0m \u001b[0mprint\u001b[0m \u001b[0;34m(\u001b[0m\u001b[0manystring\u001b[0m\u001b[0;34m[\u001b[0m\u001b[0;36m1\u001b[0m\u001b[0;34m]\u001b[0m\u001b[0;34m)\u001b[0m\u001b[0;34m\u001b[0m\u001b[0;34m\u001b[0m\u001b[0m\n",
            "\u001b[0;31mNameError\u001b[0m: name 'anystring' is not defined"
          ]
        }
      ]
    },
    {
      "cell_type": "markdown",
      "source": [
        "# **ERROR ALERT!!**\n",
        "The swiggly line underneath \"anystring\" indicate there will be an error, because the variable \"anystring\" is not defined yet"
      ],
      "metadata": {
        "id": "Zf5xoJ27VZmS"
      }
    },
    {
      "cell_type": "markdown",
      "source": [
        "# **Section 4.2: Index Slicing**\n",
        "print (anystring [index to start from : index to stop at])\n",
        "\n",
        "<img src=\"https://s3-api.us-geo.objectstorage.softlayer.net/cf-courses-data/CognitiveClass/PY0101EN/Chapter%201/Images/StringsIndex.png\" width=\"600\" align=\"center\" />"
      ],
      "metadata": {
        "id": "yoJgLgPJVsGI"
      }
    },
    {
      "cell_type": "code",
      "source": [
        "print (singer[0:6])\n",
        "#Oh no? Why didn't it print 'Michael'?"
      ],
      "metadata": {
        "colab": {
          "base_uri": "https://localhost:8080/"
        },
        "id": "PW97tTn-VfWa",
        "outputId": "c2a4fd03-e986-4b78-b5ef-7b92142f8071"
      },
      "execution_count": 8,
      "outputs": [
        {
          "output_type": "stream",
          "name": "stdout",
          "text": [
            "Michae\n"
          ]
        }
      ]
    },
    {
      "cell_type": "markdown",
      "source": [
        "# **ALERT!!**\n",
        "The last number in the command print(singer[0:6]), which is index 6, will not be printed. Therefore, ensure to add the next number, as shown below."
      ],
      "metadata": {
        "id": "sosN3YIEWDGl"
      }
    },
    {
      "cell_type": "code",
      "source": [
        "print (singer[0:7])"
      ],
      "metadata": {
        "colab": {
          "base_uri": "https://localhost:8080/"
        },
        "id": "6uHTWT2uV9TT",
        "outputId": "ed90c8bd-1815-45b4-c4b4-476f6b292014"
      },
      "execution_count": 9,
      "outputs": [
        {
          "output_type": "stream",
          "name": "stdout",
          "text": [
            "Michael\n"
          ]
        }
      ]
    },
    {
      "cell_type": "markdown",
      "source": [
        "Another way to write the code is to not mention the index 0"
      ],
      "metadata": {
        "id": "tfUmwxmmWLVl"
      }
    },
    {
      "cell_type": "code",
      "source": [
        "print (singer[:7])"
      ],
      "metadata": {
        "colab": {
          "base_uri": "https://localhost:8080/"
        },
        "id": "LqTNh2U8WMgO",
        "outputId": "c5b7758e-f779-4287-d9ce-a3fd1445cdac"
      },
      "execution_count": 10,
      "outputs": [
        {
          "output_type": "stream",
          "name": "stdout",
          "text": [
            "Michael\n"
          ]
        }
      ]
    },
    {
      "cell_type": "markdown",
      "source": [
        "# **ALERT!!**\n",
        "Keep in mind in python : the space, comma, question mark etc will have an index\n",
        "\n",
        "So if we want to print the word 'Jackson'; But we start the input from index 7, note that this will also print the preceding space as well"
      ],
      "metadata": {
        "id": "ykg4W0hmXG0F"
      }
    },
    {
      "cell_type": "code",
      "source": [
        "#printing Jackson (This code will print the empty space as well, because index 7 is a space)\n",
        "print (singer[7:])"
      ],
      "metadata": {
        "colab": {
          "base_uri": "https://localhost:8080/"
        },
        "id": "2NaGNUchXKpx",
        "outputId": "d3c9db49-a311-461a-c0f7-5d63e62440fa"
      },
      "execution_count": 11,
      "outputs": [
        {
          "output_type": "stream",
          "name": "stdout",
          "text": [
            " Jackson\n"
          ]
        }
      ]
    },
    {
      "cell_type": "code",
      "source": [
        "#printing Jackson (without the space)\n",
        "print (singer[8:])"
      ],
      "metadata": {
        "colab": {
          "base_uri": "https://localhost:8080/"
        },
        "id": "mD4S3EeqXPuE",
        "outputId": "9f9939ca-4f01-4bf6-ec65-1350d8a3814d"
      },
      "execution_count": 12,
      "outputs": [
        {
          "output_type": "stream",
          "name": "stdout",
          "text": [
            "Jackson\n"
          ]
        }
      ]
    },
    {
      "cell_type": "code",
      "source": [
        "print (singer[8:-1])"
      ],
      "metadata": {
        "colab": {
          "base_uri": "https://localhost:8080/"
        },
        "id": "j8KTlEnlXSbF",
        "outputId": "2840ad15-158f-438c-9bd8-99927a807ba7"
      },
      "execution_count": 13,
      "outputs": [
        {
          "output_type": "stream",
          "name": "stdout",
          "text": [
            "Jackso\n"
          ]
        }
      ]
    },
    {
      "cell_type": "code",
      "source": [
        "print (singer[-7:])"
      ],
      "metadata": {
        "colab": {
          "base_uri": "https://localhost:8080/"
        },
        "id": "9dXoJMtCXWdG",
        "outputId": "319affc4-1b9d-4d74-b05f-ba6fe0230812"
      },
      "execution_count": 14,
      "outputs": [
        {
          "output_type": "stream",
          "name": "stdout",
          "text": [
            "Jackson\n"
          ]
        }
      ]
    },
    {
      "cell_type": "code",
      "source": [
        "print (singer[8:15])"
      ],
      "metadata": {
        "colab": {
          "base_uri": "https://localhost:8080/"
        },
        "id": "Ddyl5Q5VXZx8",
        "outputId": "7a9bfb0d-4c72-4b77-a48c-bb9f8c20a8e5"
      },
      "execution_count": 15,
      "outputs": [
        {
          "output_type": "stream",
          "name": "stdout",
          "text": [
            "Jackson\n"
          ]
        }
      ]
    },
    {
      "cell_type": "markdown",
      "source": [
        "<img src=\"https://s3-api.us-geo.objectstorage.softlayer.net/cf-courses-data/CognitiveClass/PY0101EN/Chapter%201/Images/StringsIndex.png\" width=\"600\" align=\"center\" />\n",
        "\n",
        "**Slice Notation**\n",
        "\n",
        "Start: The index where the slice begins. If omitted, it defaults to the beginning of the string (index 0). Stop: The index where the slice ends (but not including this index). Step: The interval between each index in the slice. It specifies how many characters to skip.\n",
        "**Explanation of [:7:2]**\n",
        "\n",
        "Start: Not specified, so it defaults to the beginning of the string (index 0). Stop: 7, so the slice includes characters up to, but not including, index 7. Step: 2, so it takes every second character from the start to the stop index."
      ],
      "metadata": {
        "id": "IOds4StuX1kE"
      }
    },
    {
      "cell_type": "code",
      "source": [
        "#Then number 2 index in this code meaning it will skip every 2 character\n",
        "print (singer[:7:2])"
      ],
      "metadata": {
        "colab": {
          "base_uri": "https://localhost:8080/"
        },
        "id": "LAEbn3AxYEfU",
        "outputId": "b6141f1d-0f58-40f6-a9e2-53de73bf1585"
      },
      "execution_count": 16,
      "outputs": [
        {
          "output_type": "stream",
          "name": "stdout",
          "text": [
            "Mcal\n"
          ]
        }
      ]
    },
    {
      "cell_type": "code",
      "source": [
        "print (singer[:7:3])"
      ],
      "metadata": {
        "colab": {
          "base_uri": "https://localhost:8080/"
        },
        "id": "xWrhPeqKYHoO",
        "outputId": "b9876e21-0d6c-4df6-ea1c-43a4f0277ff5"
      },
      "execution_count": 17,
      "outputs": [
        {
          "output_type": "stream",
          "name": "stdout",
          "text": [
            "Mhl\n"
          ]
        }
      ]
    },
    {
      "cell_type": "markdown",
      "source": [
        "# **Section 4.3: Concatenate Strings**"
      ],
      "metadata": {
        "id": "KAJmCqEbYKrF"
      }
    },
    {
      "cell_type": "code",
      "source": [
        "str1 = 'Big'\n",
        "str2 = 'Data'\n",
        "\n",
        "str3 = str1 + str2\n",
        "\n",
        "print (str3)"
      ],
      "metadata": {
        "colab": {
          "base_uri": "https://localhost:8080/"
        },
        "id": "KCcoJZfjYNdV",
        "outputId": "fd3749f5-8d4e-41ef-826b-76d59e7f1e7a"
      },
      "execution_count": 18,
      "outputs": [
        {
          "output_type": "stream",
          "name": "stdout",
          "text": [
            "BigData\n"
          ]
        }
      ]
    },
    {
      "cell_type": "code",
      "source": [
        "\n",
        "str4 = str2 + str1\n",
        "\n",
        "str4"
      ],
      "metadata": {
        "colab": {
          "base_uri": "https://localhost:8080/",
          "height": 35
        },
        "id": "czCIyH8aYSOj",
        "outputId": "d01cd515-fee3-409c-ace2-bdd555ba7363"
      },
      "execution_count": 19,
      "outputs": [
        {
          "output_type": "execute_result",
          "data": {
            "text/plain": [
              "'DataBig'"
            ],
            "application/vnd.google.colaboratory.intrinsic+json": {
              "type": "string"
            }
          },
          "metadata": {},
          "execution_count": 19
        }
      ]
    },
    {
      "cell_type": "code",
      "source": [
        "#Printing space\n",
        "str3 = str1 + ' ' + str2\n",
        "\n",
        "str3"
      ],
      "metadata": {
        "colab": {
          "base_uri": "https://localhost:8080/",
          "height": 35
        },
        "id": "se6Y19K7YX1l",
        "outputId": "018c81e7-134d-4b9b-c2b5-72d0191532fc"
      },
      "execution_count": 20,
      "outputs": [
        {
          "output_type": "execute_result",
          "data": {
            "text/plain": [
              "'Big Data'"
            ],
            "application/vnd.google.colaboratory.intrinsic+json": {
              "type": "string"
            }
          },
          "metadata": {},
          "execution_count": 20
        }
      ]
    },
    {
      "cell_type": "code",
      "source": [
        "#Another way to add space is by adding space next to the string when we defined the variable\n",
        "str5 = ' Data'\n",
        "\n",
        "str6 = str1 + str5\n",
        "str6"
      ],
      "metadata": {
        "colab": {
          "base_uri": "https://localhost:8080/",
          "height": 35
        },
        "id": "81w9Qwr6YdEF",
        "outputId": "aa70b49f-046a-48eb-f94d-985f7a26b882"
      },
      "execution_count": 21,
      "outputs": [
        {
          "output_type": "execute_result",
          "data": {
            "text/plain": [
              "'Big Data'"
            ],
            "application/vnd.google.colaboratory.intrinsic+json": {
              "type": "string"
            }
          },
          "metadata": {},
          "execution_count": 21
        }
      ]
    },
    {
      "cell_type": "markdown",
      "source": [
        "# **ERROR ALERT!!**\n",
        "Concatenating is only from string to a string"
      ],
      "metadata": {
        "id": "3WNFT9psYmuU"
      }
    },
    {
      "cell_type": "code",
      "source": [
        "str7 = str1 + 2024\n",
        "str7"
      ],
      "metadata": {
        "colab": {
          "base_uri": "https://localhost:8080/",
          "height": 158
        },
        "id": "2aQ-15PxYmTE",
        "outputId": "58314fd2-f835-4d05-adb0-4cd4dda1de1f"
      },
      "execution_count": 22,
      "outputs": [
        {
          "output_type": "error",
          "ename": "TypeError",
          "evalue": "can only concatenate str (not \"int\") to str",
          "traceback": [
            "\u001b[0;31m---------------------------------------------------------------------------\u001b[0m",
            "\u001b[0;31mTypeError\u001b[0m                                 Traceback (most recent call last)",
            "\u001b[0;32m<ipython-input-22-1c68da80770f>\u001b[0m in \u001b[0;36m<cell line: 1>\u001b[0;34m()\u001b[0m\n\u001b[0;32m----> 1\u001b[0;31m \u001b[0mstr7\u001b[0m \u001b[0;34m=\u001b[0m \u001b[0mstr1\u001b[0m \u001b[0;34m+\u001b[0m \u001b[0;36m2024\u001b[0m\u001b[0;34m\u001b[0m\u001b[0;34m\u001b[0m\u001b[0m\n\u001b[0m\u001b[1;32m      2\u001b[0m \u001b[0mstr7\u001b[0m\u001b[0;34m\u001b[0m\u001b[0;34m\u001b[0m\u001b[0m\n",
            "\u001b[0;31mTypeError\u001b[0m: can only concatenate str (not \"int\") to str"
          ]
        }
      ]
    },
    {
      "cell_type": "code",
      "source": [
        "str8 = str1 + '2024'\n",
        "str8"
      ],
      "metadata": {
        "colab": {
          "base_uri": "https://localhost:8080/",
          "height": 35
        },
        "id": "yhMPu1bjYwLc",
        "outputId": "b0202cd1-2556-4549-959b-1c041536abc7"
      },
      "execution_count": 23,
      "outputs": [
        {
          "output_type": "execute_result",
          "data": {
            "text/plain": [
              "'Big2024'"
            ],
            "application/vnd.google.colaboratory.intrinsic+json": {
              "type": "string"
            }
          },
          "metadata": {},
          "execution_count": 23
        }
      ]
    },
    {
      "cell_type": "code",
      "source": [
        "\n",
        "str9 = '2024'\n",
        "print (str9)"
      ],
      "metadata": {
        "colab": {
          "base_uri": "https://localhost:8080/"
        },
        "id": "CXBcb3rlZ1pb",
        "outputId": "63ea1c6e-2c26-4d58-c704-27991e38305f"
      },
      "execution_count": 24,
      "outputs": [
        {
          "output_type": "stream",
          "name": "stdout",
          "text": [
            "2024\n"
          ]
        }
      ]
    },
    {
      "cell_type": "code",
      "source": [
        "#Checking data type\n",
        "type (str9)"
      ],
      "metadata": {
        "colab": {
          "base_uri": "https://localhost:8080/"
        },
        "id": "l12okDvvZ5I0",
        "outputId": "c17b4502-849a-4f9b-d6d8-fd7ab9f04d67"
      },
      "execution_count": 25,
      "outputs": [
        {
          "output_type": "execute_result",
          "data": {
            "text/plain": [
              "str"
            ]
          },
          "metadata": {},
          "execution_count": 25
        }
      ]
    },
    {
      "cell_type": "code",
      "source": [
        "#Changing a string into integer\n",
        "str10 = int(str9)\n",
        "print (str10)"
      ],
      "metadata": {
        "colab": {
          "base_uri": "https://localhost:8080/"
        },
        "id": "iczbjvklZ861",
        "outputId": "560a66c8-f57d-4fb1-ea16-27b9e6b385c0"
      },
      "execution_count": 26,
      "outputs": [
        {
          "output_type": "stream",
          "name": "stdout",
          "text": [
            "2024\n"
          ]
        }
      ]
    },
    {
      "cell_type": "code",
      "source": [
        "type(str10)\n"
      ],
      "metadata": {
        "colab": {
          "base_uri": "https://localhost:8080/"
        },
        "id": "OBg1s-XgaIoM",
        "outputId": "31652e5c-46ff-4946-9ff1-1b69e58171c7"
      },
      "execution_count": 27,
      "outputs": [
        {
          "output_type": "execute_result",
          "data": {
            "text/plain": [
              "int"
            ]
          },
          "metadata": {},
          "execution_count": 27
        }
      ]
    },
    {
      "cell_type": "markdown",
      "source": [
        "# **ERROR ALERT!!**\n",
        "String cannot be concatenate with float as well"
      ],
      "metadata": {
        "id": "psWIsRvcaLmh"
      }
    },
    {
      "cell_type": "code",
      "source": [
        "str11 = str1 + 2.2\n",
        "str11"
      ],
      "metadata": {
        "colab": {
          "base_uri": "https://localhost:8080/",
          "height": 158
        },
        "id": "Vw36h0K_aOmU",
        "outputId": "8495d5b1-5c68-4580-d6c5-acf9ce6a1393"
      },
      "execution_count": 28,
      "outputs": [
        {
          "output_type": "error",
          "ename": "TypeError",
          "evalue": "can only concatenate str (not \"float\") to str",
          "traceback": [
            "\u001b[0;31m---------------------------------------------------------------------------\u001b[0m",
            "\u001b[0;31mTypeError\u001b[0m                                 Traceback (most recent call last)",
            "\u001b[0;32m<ipython-input-28-4b866f66d2dd>\u001b[0m in \u001b[0;36m<cell line: 1>\u001b[0;34m()\u001b[0m\n\u001b[0;32m----> 1\u001b[0;31m \u001b[0mstr11\u001b[0m \u001b[0;34m=\u001b[0m \u001b[0mstr1\u001b[0m \u001b[0;34m+\u001b[0m \u001b[0;36m2.2\u001b[0m\u001b[0;34m\u001b[0m\u001b[0;34m\u001b[0m\u001b[0m\n\u001b[0m\u001b[1;32m      2\u001b[0m \u001b[0mstr11\u001b[0m\u001b[0;34m\u001b[0m\u001b[0;34m\u001b[0m\u001b[0m\n",
            "\u001b[0;31mTypeError\u001b[0m: can only concatenate str (not \"float\") to str"
          ]
        }
      ]
    },
    {
      "cell_type": "code",
      "source": [
        "str12 = '2.2'\n",
        "print (str12)"
      ],
      "metadata": {
        "colab": {
          "base_uri": "https://localhost:8080/"
        },
        "id": "9qP6g0gIaTxs",
        "outputId": "22c24d10-68f9-4327-c778-d59fa40104f6"
      },
      "execution_count": 29,
      "outputs": [
        {
          "output_type": "stream",
          "name": "stdout",
          "text": [
            "2.2\n"
          ]
        }
      ]
    },
    {
      "cell_type": "code",
      "source": [
        "\n",
        "type(str12)"
      ],
      "metadata": {
        "colab": {
          "base_uri": "https://localhost:8080/"
        },
        "id": "4jziJBlkaZDb",
        "outputId": "291b2eb3-9bd1-41f5-cf0d-7025d02c7085"
      },
      "execution_count": 30,
      "outputs": [
        {
          "output_type": "execute_result",
          "data": {
            "text/plain": [
              "str"
            ]
          },
          "metadata": {},
          "execution_count": 30
        }
      ]
    },
    {
      "cell_type": "code",
      "source": [
        "str13 = str1 + str12\n",
        "str13"
      ],
      "metadata": {
        "colab": {
          "base_uri": "https://localhost:8080/",
          "height": 35
        },
        "id": "SWI4Gv2PabrT",
        "outputId": "496c210f-418d-4acd-dedf-16301d6dad62"
      },
      "execution_count": 31,
      "outputs": [
        {
          "output_type": "execute_result",
          "data": {
            "text/plain": [
              "'Big2.2'"
            ],
            "application/vnd.google.colaboratory.intrinsic+json": {
              "type": "string"
            }
          },
          "metadata": {},
          "execution_count": 31
        }
      ]
    },
    {
      "cell_type": "markdown",
      "source": [
        "Reading the code from the inside of the brackets to the outside"
      ],
      "metadata": {
        "id": "mpLXvIAGaidC"
      }
    },
    {
      "cell_type": "code",
      "source": [
        "#Read: initally it's an integer 999, then convert to string '999' then convert back to integer 999\n",
        "test1 = int(str(999))\n",
        "type(test1)"
      ],
      "metadata": {
        "colab": {
          "base_uri": "https://localhost:8080/"
        },
        "id": "NVzXZVrMalYT",
        "outputId": "4e677c93-b4af-4b45-c822-8ab352171fb4"
      },
      "execution_count": 32,
      "outputs": [
        {
          "output_type": "execute_result",
          "data": {
            "text/plain": [
              "int"
            ]
          },
          "metadata": {},
          "execution_count": 32
        }
      ]
    },
    {
      "cell_type": "code",
      "source": [
        "#Read: initally it's a float 999.0, then convert to integer 999 then convert back to string '999'\n",
        "test2 = str(int(float(999)))\n",
        "type(test2)"
      ],
      "metadata": {
        "colab": {
          "base_uri": "https://localhost:8080/"
        },
        "id": "AB2V2m-yapvL",
        "outputId": "b4bfab5a-c574-4db6-aa29-570b48d03b00"
      },
      "execution_count": 33,
      "outputs": [
        {
          "output_type": "execute_result",
          "data": {
            "text/plain": [
              "str"
            ]
          },
          "metadata": {},
          "execution_count": 33
        }
      ]
    },
    {
      "cell_type": "markdown",
      "source": [
        "# **Section 5: Python Data Structure**\n",
        "\n",
        "\n",
        "\n",
        "*   List [ ] - data in between square brackert\n",
        "*   Tuple ( ) - use the parenthesis bracket (the tuple column)\n",
        "*   Set { } - use curly bracket\n",
        "*   Dictionary { Key: Value }\n",
        "\n"
      ],
      "metadata": {
        "id": "-aQmcpuIava7"
      }
    },
    {
      "cell_type": "markdown",
      "source": [
        "**Examples of python data structure**"
      ],
      "metadata": {
        "id": "239lwcjkbEYA"
      }
    },
    {
      "cell_type": "code",
      "source": [
        "\n",
        "l1 = [8.8, 'Data Science', 2024, 99, -20]\n",
        "\n",
        "t1 = (8.8, 'Data Science', 2024, 99, -20)\n",
        "\n",
        "s1 = {8.8, 'Data Science', 2024, 99, -20}\n",
        "\n",
        "print (l1)\n",
        "print(t1)\n",
        "print (s1)"
      ],
      "metadata": {
        "colab": {
          "base_uri": "https://localhost:8080/"
        },
        "id": "aAtB1yP2a_lT",
        "outputId": "26b81ae6-6b47-4f13-ef70-100a514858fe"
      },
      "execution_count": 34,
      "outputs": [
        {
          "output_type": "stream",
          "name": "stdout",
          "text": [
            "[8.8, 'Data Science', 2024, 99, -20]\n",
            "(8.8, 'Data Science', 2024, 99, -20)\n",
            "{99, 'Data Science', 8.8, 2024, -20}\n"
          ]
        }
      ]
    },
    {
      "cell_type": "code",
      "source": [
        "type(l1)"
      ],
      "metadata": {
        "colab": {
          "base_uri": "https://localhost:8080/"
        },
        "id": "SmsTpyUObX-T",
        "outputId": "962d68ef-7cad-4580-f2d9-24dc836fe82e"
      },
      "execution_count": 35,
      "outputs": [
        {
          "output_type": "execute_result",
          "data": {
            "text/plain": [
              "list"
            ]
          },
          "metadata": {},
          "execution_count": 35
        }
      ]
    },
    {
      "cell_type": "code",
      "source": [
        "type(t1)"
      ],
      "metadata": {
        "colab": {
          "base_uri": "https://localhost:8080/"
        },
        "id": "kdQ5vfHqbaKl",
        "outputId": "ac97a054-3647-4f5d-fd6e-9540f1872a9d"
      },
      "execution_count": 36,
      "outputs": [
        {
          "output_type": "execute_result",
          "data": {
            "text/plain": [
              "tuple"
            ]
          },
          "metadata": {},
          "execution_count": 36
        }
      ]
    },
    {
      "cell_type": "code",
      "source": [
        "type(s1)"
      ],
      "metadata": {
        "colab": {
          "base_uri": "https://localhost:8080/"
        },
        "id": "6t2nbMwmbcaG",
        "outputId": "5258df09-3890-4e3e-fcfb-1a6bda9357e0"
      },
      "execution_count": 37,
      "outputs": [
        {
          "output_type": "execute_result",
          "data": {
            "text/plain": [
              "set"
            ]
          },
          "metadata": {},
          "execution_count": 37
        }
      ]
    },
    {
      "cell_type": "markdown",
      "source": [
        "# **Section 5.1: List [ ]**"
      ],
      "metadata": {
        "id": "JGUI2Liubi2d"
      }
    },
    {
      "cell_type": "code",
      "source": [
        "#index\n",
        "\n",
        "print(l1[2])\n",
        "print(l1[2:])"
      ],
      "metadata": {
        "colab": {
          "base_uri": "https://localhost:8080/"
        },
        "id": "7hqf29-cblDa",
        "outputId": "3c7e749c-3c93-47cf-b686-a56368d549d6"
      },
      "execution_count": 38,
      "outputs": [
        {
          "output_type": "stream",
          "name": "stdout",
          "text": [
            "2024\n",
            "[2024, 99, -20]\n"
          ]
        }
      ]
    },
    {
      "cell_type": "markdown",
      "source": [
        "**Section 5.1.1: Extend Function**"
      ],
      "metadata": {
        "id": "fI4tovezbp7q"
      }
    },
    {
      "cell_type": "code",
      "source": [
        "\n",
        "#extend (adding item to the list)\n",
        "\n",
        "l1.extend([55,'AI'])\n",
        "l1"
      ],
      "metadata": {
        "colab": {
          "base_uri": "https://localhost:8080/"
        },
        "id": "k5nccNXZbrua",
        "outputId": "5fb2f47e-8605-4fff-cca1-72006c012d42"
      },
      "execution_count": 39,
      "outputs": [
        {
          "output_type": "execute_result",
          "data": {
            "text/plain": [
              "[8.8, 'Data Science', 2024, 99, -20, 55, 'AI']"
            ]
          },
          "metadata": {},
          "execution_count": 39
        }
      ]
    },
    {
      "cell_type": "code",
      "source": [
        "\n",
        "#If you run the code again, they will add the item again and again in the list and will increase the index of the list\n",
        "l1.extend([55,'AI'])\n",
        "l1"
      ],
      "metadata": {
        "colab": {
          "base_uri": "https://localhost:8080/"
        },
        "id": "AGjW1SMGbyDq",
        "outputId": "0dae3b5d-263c-404a-c469-8272796cdfc9"
      },
      "execution_count": 40,
      "outputs": [
        {
          "output_type": "execute_result",
          "data": {
            "text/plain": [
              "[8.8, 'Data Science', 2024, 99, -20, 55, 'AI', 55, 'AI']"
            ]
          },
          "metadata": {},
          "execution_count": 40
        }
      ]
    },
    {
      "cell_type": "markdown",
      "source": [
        "# **Section 5.1.2: Append Function**\n",
        "\n",
        "append (nested list a.k.a a list inside a list)\n",
        "\n",
        "the nested list is considered one item (having one same index)"
      ],
      "metadata": {
        "id": "HRKlnE2Tb3IL"
      }
    },
    {
      "cell_type": "code",
      "source": [
        "\n",
        "#append (nested list a.k.a a list inside a list)\n",
        "\n",
        "l1.append(['ML',999])\n",
        "l1"
      ],
      "metadata": {
        "colab": {
          "base_uri": "https://localhost:8080/"
        },
        "id": "7gy1XzvCbzhT",
        "outputId": "cd810125-71d8-4406-f73e-3d0187341a85"
      },
      "execution_count": 41,
      "outputs": [
        {
          "output_type": "execute_result",
          "data": {
            "text/plain": [
              "[8.8, 'Data Science', 2024, 99, -20, 55, 'AI', 55, 'AI', ['ML', 999]]"
            ]
          },
          "metadata": {},
          "execution_count": 41
        }
      ]
    },
    {
      "cell_type": "code",
      "source": [
        "#The nested list is considered one item (having one same index)\n",
        "\n",
        "\n",
        "print(l1[-1])"
      ],
      "metadata": {
        "colab": {
          "base_uri": "https://localhost:8080/"
        },
        "id": "8HebASXEcFEC",
        "outputId": "7395c48b-e690-4a76-df5d-5f3322c09818"
      },
      "execution_count": 42,
      "outputs": [
        {
          "output_type": "stream",
          "name": "stdout",
          "text": [
            "['ML', 999]\n"
          ]
        }
      ]
    },
    {
      "cell_type": "code",
      "source": [
        "#how to read? first it reads index -1 = ['ML',999], then we read the next index -1 which is 999\n",
        "print(l1[-1][-1])"
      ],
      "metadata": {
        "colab": {
          "base_uri": "https://localhost:8080/"
        },
        "id": "iq_iYk7qcI6b",
        "outputId": "6a86e387-e560-44e5-d7ef-71c9a093f934"
      },
      "execution_count": 43,
      "outputs": [
        {
          "output_type": "stream",
          "name": "stdout",
          "text": [
            "999\n"
          ]
        }
      ]
    },
    {
      "cell_type": "code",
      "source": [
        "\n",
        "l2 = [8.8, 'Data Science', 2024, 99, -20, 55, 'AI', ['ML', 999, ['A','B','C']]]\n",
        "#print the letter B and C\n",
        "\n",
        "print(l2[-1][-1][-2:])"
      ],
      "metadata": {
        "colab": {
          "base_uri": "https://localhost:8080/"
        },
        "id": "dQEZiaczdFci",
        "outputId": "956046ea-081d-4c42-c451-939dbbb5a4f5"
      },
      "execution_count": 44,
      "outputs": [
        {
          "output_type": "stream",
          "name": "stdout",
          "text": [
            "['B', 'C']\n"
          ]
        }
      ]
    },
    {
      "cell_type": "markdown",
      "source": [
        "# **Section 5.1.3: Deleting Items**"
      ],
      "metadata": {
        "id": "kWM-tJMJdLJA"
      }
    },
    {
      "cell_type": "code",
      "source": [
        "\n",
        "#del\n",
        "\n",
        "del(l1[1])\n",
        "l1"
      ],
      "metadata": {
        "colab": {
          "base_uri": "https://localhost:8080/"
        },
        "id": "vyVcr-X1dTNS",
        "outputId": "6af74c4e-b3a1-4ddf-9af4-d69d151f2ffa"
      },
      "execution_count": 45,
      "outputs": [
        {
          "output_type": "execute_result",
          "data": {
            "text/plain": [
              "[8.8, 2024, 99, -20, 55, 'AI', 55, 'AI', ['ML', 999]]"
            ]
          },
          "metadata": {},
          "execution_count": 45
        }
      ]
    },
    {
      "cell_type": "markdown",
      "source": [
        "**REMEMBER:**\n",
        "\n",
        "Each time you add or delete and item on the list, the index will increase or decrease by 1 Ensure to recount the index Delete function only delete the index on the list"
      ],
      "metadata": {
        "id": "dONBn6cydY84"
      }
    },
    {
      "cell_type": "code",
      "source": [
        "\n",
        "del(l1[1])\n",
        "l1"
      ],
      "metadata": {
        "colab": {
          "base_uri": "https://localhost:8080/"
        },
        "id": "M3aROYjvdWJV",
        "outputId": "8ca9dc19-886f-4747-cc79-4e96da6c8da4"
      },
      "execution_count": 46,
      "outputs": [
        {
          "output_type": "execute_result",
          "data": {
            "text/plain": [
              "[8.8, 99, -20, 55, 'AI', 55, 'AI', ['ML', 999]]"
            ]
          },
          "metadata": {},
          "execution_count": 46
        }
      ]
    },
    {
      "cell_type": "code",
      "source": [
        "\n",
        "#find the index of an item in a list\n",
        "l1.index('AI')"
      ],
      "metadata": {
        "colab": {
          "base_uri": "https://localhost:8080/"
        },
        "id": "NoGtZ1iOdgDc",
        "outputId": "e5eeb6c6-fc8c-4443-debd-dabb2284a2c0"
      },
      "execution_count": 47,
      "outputs": [
        {
          "output_type": "execute_result",
          "data": {
            "text/plain": [
              "4"
            ]
          },
          "metadata": {},
          "execution_count": 47
        }
      ]
    },
    {
      "cell_type": "markdown",
      "source": [
        "# **Section 5.1.4: Count Function**\n",
        "counting the frequency of an item in a list\n",
        "\n",
        "counting how many time an item appeared in the list"
      ],
      "metadata": {
        "id": "LW9w_os6dmXz"
      }
    },
    {
      "cell_type": "code",
      "source": [
        "\n",
        "#counting the ferq of an item in a list\n",
        "l3 = [20,200,99,20, 'AI',20,'AI',20]\n",
        "\n",
        "#count\n",
        "l3.count(20)"
      ],
      "metadata": {
        "colab": {
          "base_uri": "https://localhost:8080/"
        },
        "id": "MgG_2SAndhv0",
        "outputId": "259c35dc-af7e-4376-e807-6331738f5672"
      },
      "execution_count": 48,
      "outputs": [
        {
          "output_type": "execute_result",
          "data": {
            "text/plain": [
              "4"
            ]
          },
          "metadata": {},
          "execution_count": 48
        }
      ]
    },
    {
      "cell_type": "code",
      "source": [
        "\n",
        "l3.count('AI')"
      ],
      "metadata": {
        "colab": {
          "base_uri": "https://localhost:8080/"
        },
        "id": "xlZJ9JrPdsbC",
        "outputId": "73c74629-7dc8-42a2-ed95-06f2270d1a62"
      },
      "execution_count": 49,
      "outputs": [
        {
          "output_type": "execute_result",
          "data": {
            "text/plain": [
              "2"
            ]
          },
          "metadata": {},
          "execution_count": 49
        }
      ]
    },
    {
      "cell_type": "code",
      "source": [
        "#checking the index of the string AI\n",
        "l3.index('AI')"
      ],
      "metadata": {
        "colab": {
          "base_uri": "https://localhost:8080/"
        },
        "id": "6VIn6bAkdwAC",
        "outputId": "a36c92f6-b7fb-4fe9-fee4-332746d9f1a5"
      },
      "execution_count": 50,
      "outputs": [
        {
          "output_type": "execute_result",
          "data": {
            "text/plain": [
              "4"
            ]
          },
          "metadata": {},
          "execution_count": 50
        }
      ]
    },
    {
      "cell_type": "markdown",
      "source": [
        "# **Section 5.1.5: Remove Function**\n",
        "Remove the item completely from the list\n",
        "\n",
        "Difference between remove function and delete function?\n",
        "\n",
        "delete function only remove the index, but other same item remains but remove function remove all the same name item completely from the list"
      ],
      "metadata": {
        "id": "Zjcrmh-id1y8"
      }
    },
    {
      "cell_type": "code",
      "source": [
        "\n",
        "#remove\n",
        "l3.remove('AI')\n",
        "\n",
        "l3"
      ],
      "metadata": {
        "colab": {
          "base_uri": "https://localhost:8080/"
        },
        "id": "2EoVfZjTd5e6",
        "outputId": "b77dad93-eba7-45cf-dbcf-e38328be4aea"
      },
      "execution_count": 51,
      "outputs": [
        {
          "output_type": "execute_result",
          "data": {
            "text/plain": [
              "[20, 200, 99, 20, 20, 'AI', 20]"
            ]
          },
          "metadata": {},
          "execution_count": 51
        }
      ]
    },
    {
      "cell_type": "markdown",
      "source": [
        "# **Section 5.1.6: Insert Function**\n",
        "Insert function will insert item into the chosen index which different from extend (extend add item to the end of the list)"
      ],
      "metadata": {
        "id": "1zgSfehed9LK"
      }
    },
    {
      "cell_type": "code",
      "source": [
        "\n",
        "#insert\n",
        "#list.insert(index, item)\n",
        "\n",
        "l3. insert(4,'AI')\n",
        "l3"
      ],
      "metadata": {
        "colab": {
          "base_uri": "https://localhost:8080/"
        },
        "id": "Efkjq94Id8y6",
        "outputId": "9b9ba822-b759-408e-a743-82569bd60ae3"
      },
      "execution_count": 52,
      "outputs": [
        {
          "output_type": "execute_result",
          "data": {
            "text/plain": [
              "[20, 200, 99, 20, 'AI', 20, 'AI', 20]"
            ]
          },
          "metadata": {},
          "execution_count": 52
        }
      ]
    },
    {
      "cell_type": "markdown",
      "source": [
        "# **Section 5.1.7: Reverse Function**\n",
        "The reverse function will reverse the susunan of the list"
      ],
      "metadata": {
        "id": "Us8S-7PDeF6i"
      }
    },
    {
      "cell_type": "code",
      "source": [
        "\n",
        "#reverse\n",
        "l3.reverse()\n",
        "l3"
      ],
      "metadata": {
        "colab": {
          "base_uri": "https://localhost:8080/"
        },
        "id": "hEUrz1TteKUq",
        "outputId": "63237333-c8c5-4003-d11c-48d0e7c8f759"
      },
      "execution_count": 53,
      "outputs": [
        {
          "output_type": "execute_result",
          "data": {
            "text/plain": [
              "[20, 'AI', 20, 'AI', 20, 99, 200, 20]"
            ]
          },
          "metadata": {},
          "execution_count": 53
        }
      ]
    },
    {
      "cell_type": "code",
      "source": [
        "#reverse (if you run it again it will reverse the list again)\n",
        "l3.reverse()\n",
        "l3"
      ],
      "metadata": {
        "colab": {
          "base_uri": "https://localhost:8080/"
        },
        "id": "wA4woEYOeL_a",
        "outputId": "b586f490-540a-42ca-c214-89a9d113b8dc"
      },
      "execution_count": 54,
      "outputs": [
        {
          "output_type": "execute_result",
          "data": {
            "text/plain": [
              "[20, 200, 99, 20, 'AI', 20, 'AI', 20]"
            ]
          },
          "metadata": {},
          "execution_count": 54
        }
      ]
    },
    {
      "cell_type": "markdown",
      "source": [
        "# **ERROR ALERT!**\n",
        "\n",
        "The list is a combination of integer and string so it cannot be sorted, ensure the string is remove first before sorting"
      ],
      "metadata": {
        "id": "VzK-SOnJerJS"
      }
    },
    {
      "cell_type": "code",
      "source": [
        "#Sort\n",
        "l3.sort()\n",
        "l3"
      ],
      "metadata": {
        "colab": {
          "base_uri": "https://localhost:8080/",
          "height": 176
        },
        "id": "iOfZ29KOetCK",
        "outputId": "c1452548-fe72-4a36-eda9-58b38cd7187e"
      },
      "execution_count": 55,
      "outputs": [
        {
          "output_type": "error",
          "ename": "TypeError",
          "evalue": "'<' not supported between instances of 'str' and 'int'",
          "traceback": [
            "\u001b[0;31m---------------------------------------------------------------------------\u001b[0m",
            "\u001b[0;31mTypeError\u001b[0m                                 Traceback (most recent call last)",
            "\u001b[0;32m<ipython-input-55-456e1d37693a>\u001b[0m in \u001b[0;36m<cell line: 2>\u001b[0;34m()\u001b[0m\n\u001b[1;32m      1\u001b[0m \u001b[0;31m#Sort\u001b[0m\u001b[0;34m\u001b[0m\u001b[0;34m\u001b[0m\u001b[0m\n\u001b[0;32m----> 2\u001b[0;31m \u001b[0ml3\u001b[0m\u001b[0;34m.\u001b[0m\u001b[0msort\u001b[0m\u001b[0;34m(\u001b[0m\u001b[0;34m)\u001b[0m\u001b[0;34m\u001b[0m\u001b[0;34m\u001b[0m\u001b[0m\n\u001b[0m\u001b[1;32m      3\u001b[0m \u001b[0ml3\u001b[0m\u001b[0;34m\u001b[0m\u001b[0;34m\u001b[0m\u001b[0m\n",
            "\u001b[0;31mTypeError\u001b[0m: '<' not supported between instances of 'str' and 'int'"
          ]
        }
      ]
    },
    {
      "cell_type": "code",
      "source": [
        "#Removing the string 'AI' from the list\n",
        "l3.remove('AI')\n",
        "l3"
      ],
      "metadata": {
        "colab": {
          "base_uri": "https://localhost:8080/"
        },
        "id": "ggWhtxSxewq2",
        "outputId": "2783b23e-87ed-47ef-95d9-241094fa3149"
      },
      "execution_count": 57,
      "outputs": [
        {
          "output_type": "execute_result",
          "data": {
            "text/plain": [
              "[20, 20, 99, 200, 20, 20]"
            ]
          },
          "metadata": {},
          "execution_count": 57
        }
      ]
    },
    {
      "cell_type": "code",
      "source": [
        "#Sort the list\n",
        "l3.sort()\n",
        "l3"
      ],
      "metadata": {
        "colab": {
          "base_uri": "https://localhost:8080/"
        },
        "id": "OHs4rdJ6e3J6",
        "outputId": "d7c2954a-f44a-49e5-e697-9eac5fb5356b"
      },
      "execution_count": 58,
      "outputs": [
        {
          "output_type": "execute_result",
          "data": {
            "text/plain": [
              "[20, 20, 20, 20, 99, 200]"
            ]
          },
          "metadata": {},
          "execution_count": 58
        }
      ]
    },
    {
      "cell_type": "code",
      "source": [
        "#Reversing the sorting from highest to lowest\n",
        "l3.reverse()\n",
        "l3"
      ],
      "metadata": {
        "colab": {
          "base_uri": "https://localhost:8080/"
        },
        "id": "q-9Z-7lce8Wq",
        "outputId": "0defbe77-b2e5-43d9-8a7a-0f9e3bfec244"
      },
      "execution_count": 59,
      "outputs": [
        {
          "output_type": "execute_result",
          "data": {
            "text/plain": [
              "[200, 99, 20, 20, 20, 20]"
            ]
          },
          "metadata": {},
          "execution_count": 59
        }
      ]
    },
    {
      "cell_type": "code",
      "source": [
        "\n",
        "#length (this function help calculate the length of the list)\n",
        "len(l3)"
      ],
      "metadata": {
        "colab": {
          "base_uri": "https://localhost:8080/"
        },
        "id": "ZoBNvSC6e_z7",
        "outputId": "287aef33-0875-4e20-9d37-ddf3aea0e2ca"
      },
      "execution_count": 60,
      "outputs": [
        {
          "output_type": "execute_result",
          "data": {
            "text/plain": [
              "6"
            ]
          },
          "metadata": {},
          "execution_count": 60
        }
      ]
    },
    {
      "cell_type": "code",
      "source": [
        "l4 = [20,0,-5,13,-1,7,4,-3,17,9]\n",
        "\n",
        "#sort l4 in ascending and descending\n",
        "#print the highest value and the lowest value"
      ],
      "metadata": {
        "id": "T4BIiefNfCyR"
      },
      "execution_count": 61,
      "outputs": []
    },
    {
      "cell_type": "code",
      "source": [
        "#sort l4 (ascending)\n",
        "l4.sort()\n",
        "l4"
      ],
      "metadata": {
        "colab": {
          "base_uri": "https://localhost:8080/"
        },
        "id": "HRV9pjW5fHR6",
        "outputId": "f74d3f9d-9772-428b-f9f6-4ecbdc913db5"
      },
      "execution_count": 62,
      "outputs": [
        {
          "output_type": "execute_result",
          "data": {
            "text/plain": [
              "[-5, -3, -1, 0, 4, 7, 9, 13, 17, 20]"
            ]
          },
          "metadata": {},
          "execution_count": 62
        }
      ]
    },
    {
      "cell_type": "code",
      "source": [
        "#sort l4 (descending)\n",
        "l4.reverse()\n",
        "l4"
      ],
      "metadata": {
        "colab": {
          "base_uri": "https://localhost:8080/"
        },
        "id": "SPRzKDEDfKE5",
        "outputId": "21177422-0f62-4c48-a878-7806fec3d9d8"
      },
      "execution_count": 63,
      "outputs": [
        {
          "output_type": "execute_result",
          "data": {
            "text/plain": [
              "[20, 17, 13, 9, 7, 4, 0, -1, -3, -5]"
            ]
          },
          "metadata": {},
          "execution_count": 63
        }
      ]
    },
    {
      "cell_type": "code",
      "source": [
        "\n",
        "#print the highest value and the lowest value\n",
        "print([l4[0],l4[-1]])"
      ],
      "metadata": {
        "colab": {
          "base_uri": "https://localhost:8080/"
        },
        "id": "gOrfkOvVfMlB",
        "outputId": "af6732f7-18fe-420c-cf60-718ebcd597b2"
      },
      "execution_count": 64,
      "outputs": [
        {
          "output_type": "stream",
          "name": "stdout",
          "text": [
            "[20, -5]\n"
          ]
        }
      ]
    },
    {
      "cell_type": "code",
      "source": [
        "\n",
        "print('The highest value is:', l4[0])\n",
        "print('The lowest value is:', l4[-1])"
      ],
      "metadata": {
        "colab": {
          "base_uri": "https://localhost:8080/"
        },
        "id": "_gh4hAHJfPrZ",
        "outputId": "c5a6437b-88fe-4453-d051-7f82104af72a"
      },
      "execution_count": 65,
      "outputs": [
        {
          "output_type": "stream",
          "name": "stdout",
          "text": [
            "The highest value is: 20\n",
            "The lowest value is: -5\n"
          ]
        }
      ]
    },
    {
      "cell_type": "markdown",
      "source": [
        "# **Section 5.2: Tuple**\n",
        "## **Section 5.2.1: Comparison Between list and tuple**\n",
        "\n",
        "\n",
        "**List**\n",
        "\n",
        "\n",
        "*   Mutable: You can change the elements (add, remove, or modify) after the list is created.\n",
        "*   Syntax: Defined using square brackets []. python my_list = [1, 2, 3]\n",
        "*   Performance: Slightly slower due to the flexibility of mutability.\n",
        "*   Use Case: Best when you need a collection of items that may change over time.\n",
        "\n",
        "**Tuple**\n",
        "\n",
        "\n",
        "\n",
        "*   Immutable: Once created, you cannot change the elements (no adding, removing, or modifying).\n",
        "*   Syntax: Defined using parentheses (). python my_tuple = (1, 2, 3)\n",
        "*   Performance: Faster than lists due to immutability.\n",
        "*  Use Case: Best when you need a collection of items that should not change, ensuring data integrity.\n",
        "*   Tuple is slightly faster at processing compared to list\n",
        "\n",
        "\n",
        "**Key Differences**\n",
        "\n",
        "**Mutability:**\n",
        "\n",
        "*   Lists: Mutable\n",
        "*   Tuples: Immutable\n",
        "\n",
        "**Syntax:**\n",
        "\n",
        "\n",
        "*   Lists: []\n",
        "*   Tuples: ()\n",
        "\n",
        "**Performance:**\n",
        "\n",
        "\n",
        "*   Lists: Slower due to overhead of mutable operations.\n",
        "*   Tuples: Faster due to immutability.\n",
        "\n",
        "\n",
        "**Use Cases:**\n",
        "\n",
        "\n",
        "*   Lists: Collections of items that need to be changed or updated.\n",
        "*   Tuples: Fixed collections of items that should not change after creation\n",
        "\n",
        "\n",
        "**Example**\n",
        "\n",
        "**List**\n",
        "\n",
        "*   my_list = [1, 2, 3]\n",
        "*   my_list.append(4)\n",
        "*   print(my_list) # Output: [1, 2, 3, 4]\n",
        "\n",
        "\n",
        "**Tuple**\n",
        "\n",
        "\n",
        "*   my_tuple = (1, 2, 3)\n",
        "*   my_tuple.append(4) # This will raise an AttributeError\n",
        "*   print(my_tuple) # Output: (1, 2, 3)\n",
        "\n",
        "\n",
        "**Summary**\n",
        "\n",
        "Use lists when you need a dynamic collection that may change over time.\n",
        "Use tuples when you need a fixed collection of items that should remain constant."
      ],
      "metadata": {
        "id": "B0qzdP02fcdb"
      }
    },
    {
      "cell_type": "code",
      "source": [
        "\n",
        "t1 = (8.8, ' Data Science', 2024, 99, -20)\n",
        "\n",
        "print (t1[2])"
      ],
      "metadata": {
        "colab": {
          "base_uri": "https://localhost:8080/"
        },
        "id": "MTPx2JkhjuOS",
        "outputId": "94206391-6d69-4d92-f057-272d33d65898"
      },
      "execution_count": 66,
      "outputs": [
        {
          "output_type": "stream",
          "name": "stdout",
          "text": [
            "2024\n"
          ]
        }
      ]
    },
    {
      "cell_type": "code",
      "source": [
        "#nested tuple\n",
        "\n",
        "t2 = (8.8, 'Data Science',(2024,99),-20)\n",
        "print (t2[-2][-1])"
      ],
      "metadata": {
        "colab": {
          "base_uri": "https://localhost:8080/"
        },
        "id": "A6XVxh2KjxwC",
        "outputId": "67f60ce3-8135-4028-f4bf-d21c7bead547"
      },
      "execution_count": 67,
      "outputs": [
        {
          "output_type": "stream",
          "name": "stdout",
          "text": [
            "99\n"
          ]
        }
      ]
    },
    {
      "cell_type": "code",
      "source": [
        "#We can't add item into the existing tuple, so we have to create a new variable to add new item\n",
        "\n",
        "t3 = ('AI','Python')\n",
        "tnew = t2 + t3\n",
        "tnew"
      ],
      "metadata": {
        "colab": {
          "base_uri": "https://localhost:8080/"
        },
        "id": "_RqX0yRuj1sc",
        "outputId": "ce4e9c19-9b9f-4949-c80d-38962e05fd4d"
      },
      "execution_count": 68,
      "outputs": [
        {
          "output_type": "execute_result",
          "data": {
            "text/plain": [
              "(8.8, 'Data Science', (2024, 99), -20, 'AI', 'Python')"
            ]
          },
          "metadata": {},
          "execution_count": 68
        }
      ]
    },
    {
      "cell_type": "markdown",
      "source": [
        "# **Section 5.2.2: Sort Function in Tuple**"
      ],
      "metadata": {
        "id": "aLznbMDUj5fQ"
      }
    },
    {
      "cell_type": "code",
      "source": [
        "t4 = (5,88,-20,99,30,8.8,0,5)\n",
        "\n",
        "#sorted\n",
        "sort_t4= sorted(t4)\n",
        "\n",
        "print(sort_t4)\n",
        "\n",
        "#This function turns the tuple to a list then sorted the list that's the reason why the result have square brackets []"
      ],
      "metadata": {
        "colab": {
          "base_uri": "https://localhost:8080/"
        },
        "id": "ICCvEe9Ej70B",
        "outputId": "48a9845f-5d23-402a-a8d6-2322db810b1c"
      },
      "execution_count": 69,
      "outputs": [
        {
          "output_type": "stream",
          "name": "stdout",
          "text": [
            "[-20, 0, 5, 5, 8.8, 30, 88, 99]\n"
          ]
        }
      ]
    },
    {
      "cell_type": "markdown",
      "source": [
        "# **Section 5.2.3: Convert tuple into a list**\n",
        "Other method to change tuple into a list instead of using sort function"
      ],
      "metadata": {
        "id": "0aaFxdr0kBRG"
      }
    },
    {
      "cell_type": "code",
      "source": [
        "\n",
        "list_t4 = list(t4)\n",
        "list_t4"
      ],
      "metadata": {
        "colab": {
          "base_uri": "https://localhost:8080/"
        },
        "id": "fZtXU36YkDpX",
        "outputId": "b6405c9a-62e7-4c6b-924e-4d976c2ea486"
      },
      "execution_count": 70,
      "outputs": [
        {
          "output_type": "execute_result",
          "data": {
            "text/plain": [
              "[5, 88, -20, 99, 30, 8.8, 0, 5]"
            ]
          },
          "metadata": {},
          "execution_count": 70
        }
      ]
    },
    {
      "cell_type": "markdown",
      "source": [
        "\n",
        "# **Section 5.2.4: Convert list into tuple again**"
      ],
      "metadata": {
        "id": "Puwa35PVkH-H"
      }
    },
    {
      "cell_type": "code",
      "source": [
        "tuple_list_t4 = tuple(list_t4)\n",
        "tuple_list_t4"
      ],
      "metadata": {
        "colab": {
          "base_uri": "https://localhost:8080/"
        },
        "id": "7TCEFTrPkPIq",
        "outputId": "934b9a73-bd49-42bc-9b3f-15218b8efd10"
      },
      "execution_count": 71,
      "outputs": [
        {
          "output_type": "execute_result",
          "data": {
            "text/plain": [
              "(5, 88, -20, 99, 30, 8.8, 0, 5)"
            ]
          },
          "metadata": {},
          "execution_count": 71
        }
      ]
    },
    {
      "cell_type": "code",
      "source": [
        "\n",
        "t5 = ('AI','Data',2024,'ML')\n",
        "list_new_items = [888, 'Python', 'DL']\n",
        "\n",
        "#create a new tuple of the above tuple and list"
      ],
      "metadata": {
        "id": "oRAF2P3SkSxq"
      },
      "execution_count": 72,
      "outputs": []
    },
    {
      "cell_type": "code",
      "source": [
        "#convert tuple to list\n",
        "list_t5 = list(t5)\n",
        "list_t5"
      ],
      "metadata": {
        "colab": {
          "base_uri": "https://localhost:8080/"
        },
        "id": "w1Q8WVTzkVlC",
        "outputId": "d3b4514a-6be3-45a0-ca90-3ae6bed3a897"
      },
      "execution_count": 73,
      "outputs": [
        {
          "output_type": "execute_result",
          "data": {
            "text/plain": [
              "['AI', 'Data', 2024, 'ML']"
            ]
          },
          "metadata": {},
          "execution_count": 73
        }
      ]
    },
    {
      "cell_type": "code",
      "source": [
        "\n",
        "#adding new items\n",
        "list_t5.extend(list_new_items)\n",
        "list_t5"
      ],
      "metadata": {
        "colab": {
          "base_uri": "https://localhost:8080/"
        },
        "id": "2nYu36iNkYZw",
        "outputId": "2ac9a456-cd6e-4a62-9081-4a426f94d9bd"
      },
      "execution_count": 74,
      "outputs": [
        {
          "output_type": "execute_result",
          "data": {
            "text/plain": [
              "['AI', 'Data', 2024, 'ML', 888, 'Python', 'DL']"
            ]
          },
          "metadata": {},
          "execution_count": 74
        }
      ]
    },
    {
      "cell_type": "code",
      "source": [
        "\n",
        "#converting list back to tuple\n",
        "tuple_list_t5 = tuple(list_t5)\n",
        "tuple_list_t5"
      ],
      "metadata": {
        "colab": {
          "base_uri": "https://localhost:8080/"
        },
        "id": "5ilyAotQkapZ",
        "outputId": "96b255a0-5402-4fdc-f08f-ce1069502a88"
      },
      "execution_count": 75,
      "outputs": [
        {
          "output_type": "execute_result",
          "data": {
            "text/plain": [
              "('AI', 'Data', 2024, 'ML', 888, 'Python', 'DL')"
            ]
          },
          "metadata": {},
          "execution_count": 75
        }
      ]
    },
    {
      "cell_type": "markdown",
      "source": [
        "# **Section 5.3: Set { }**\n",
        "Set is similar to a list except, set will sort item in ascending order or sequence"
      ],
      "metadata": {
        "id": "NbSoZzXXkeuf"
      }
    },
    {
      "cell_type": "markdown",
      "source": [
        "\n",
        "# **Section 5.3.1: Defining A Set**"
      ],
      "metadata": {
        "id": "fa6p8ZZtkg4X"
      }
    },
    {
      "cell_type": "code",
      "source": [
        "\n",
        "s1 = {8,8, 'Data Science', 99, 2.2, 'Python'}\n",
        "type(s1)"
      ],
      "metadata": {
        "colab": {
          "base_uri": "https://localhost:8080/"
        },
        "id": "5fQ36sXDkmAI",
        "outputId": "8968f2b5-6046-4875-dbd9-b89b3961cfb3"
      },
      "execution_count": 76,
      "outputs": [
        {
          "output_type": "execute_result",
          "data": {
            "text/plain": [
              "set"
            ]
          },
          "metadata": {},
          "execution_count": 76
        }
      ]
    },
    {
      "cell_type": "code",
      "source": [
        "\n",
        "print(s1)"
      ],
      "metadata": {
        "colab": {
          "base_uri": "https://localhost:8080/"
        },
        "id": "w-cFY5tbkqqK",
        "outputId": "17529496-41e0-4ac3-b9e4-dfb3cb7570e8"
      },
      "execution_count": 77,
      "outputs": [
        {
          "output_type": "stream",
          "name": "stdout",
          "text": [
            "{2.2, 99, 'Data Science', 8, 'Python'}\n"
          ]
        }
      ]
    },
    {
      "cell_type": "markdown",
      "source": [
        "# **Section 5.3.2: Set Removes Duplicates**"
      ],
      "metadata": {
        "id": "JeeTNMsiku8p"
      }
    },
    {
      "cell_type": "code",
      "source": [
        "\n",
        "s2 = {20,-10,0,5,99,-10,20,2.2,88}\n",
        "print(s2)"
      ],
      "metadata": {
        "colab": {
          "base_uri": "https://localhost:8080/"
        },
        "id": "-aYn-pEfkxGp",
        "outputId": "1d80c56c-04f4-4b21-edac-b2db9a8e7141"
      },
      "execution_count": 78,
      "outputs": [
        {
          "output_type": "stream",
          "name": "stdout",
          "text": [
            "{0, 2.2, 99, 20, 5, -10, 88}\n"
          ]
        }
      ]
    },
    {
      "cell_type": "markdown",
      "source": [
        "**why is the output 'print(s2)' above different from the output 's2' below?**\n",
        "\n",
        "**Answer:**\n",
        "\n",
        "\n",
        "*   Firstly set will remove duplicates (noticed the duplicates for 20,-10)\n",
        "*   Secondly 'print(s2)' will give output in arbitrary order, may appeared unodered\n",
        "*   calling the set promp s2 will call it to it's nature in the ascending order\n",
        "\n",
        "\n",
        "\n",
        "\n"
      ],
      "metadata": {
        "id": "ZHvvCJa3lPiJ"
      }
    },
    {
      "cell_type": "code",
      "source": [
        "#Obeserve difference between 'print(s2)' command and just 's2' command\n",
        "s2 #the result is in ascending order"
      ],
      "metadata": {
        "colab": {
          "base_uri": "https://localhost:8080/"
        },
        "id": "FduFsbColMy4",
        "outputId": "c4c34a00-7168-4df2-cda7-f34c37ca00f2"
      },
      "execution_count": 79,
      "outputs": [
        {
          "output_type": "execute_result",
          "data": {
            "text/plain": [
              "{-10, 0, 2.2, 5, 20, 88, 99}"
            ]
          },
          "metadata": {},
          "execution_count": 79
        }
      ]
    },
    {
      "cell_type": "markdown",
      "source": [
        "# **Section 5.3.3: Uppercase and lowercase in Set**\n",
        "Set will sort from uppercase alphabet to lowercase in alphabatical order"
      ],
      "metadata": {
        "id": "3WHpdxe0ltE3"
      }
    },
    {
      "cell_type": "code",
      "source": [
        "s3 = {'data','ai','ML','python','big data'}\n",
        "s3"
      ],
      "metadata": {
        "colab": {
          "base_uri": "https://localhost:8080/"
        },
        "id": "qY2jnRWrlvOX",
        "outputId": "a1eeba95-ae0f-453f-a9ae-28cc77562c15"
      },
      "execution_count": 80,
      "outputs": [
        {
          "output_type": "execute_result",
          "data": {
            "text/plain": [
              "{'ML', 'ai', 'big data', 'data', 'python'}"
            ]
          },
          "metadata": {},
          "execution_count": 80
        }
      ]
    },
    {
      "cell_type": "code",
      "source": [
        "\n",
        "s4 = {'data', 'ai', 'ml', 'python', 'big data'}\n",
        "s4"
      ],
      "metadata": {
        "colab": {
          "base_uri": "https://localhost:8080/"
        },
        "id": "ADdCMuJolzUP",
        "outputId": "3ff54fc1-7e4c-4824-ea4d-a977915ffd02"
      },
      "execution_count": 81,
      "outputs": [
        {
          "output_type": "execute_result",
          "data": {
            "text/plain": [
              "{'ai', 'big data', 'data', 'ml', 'python'}"
            ]
          },
          "metadata": {},
          "execution_count": 81
        }
      ]
    },
    {
      "cell_type": "code",
      "source": [
        "\n",
        "s5 = {'Data', 'ai', 'ML', 'Python', 'Big data'}\n",
        "s5"
      ],
      "metadata": {
        "colab": {
          "base_uri": "https://localhost:8080/"
        },
        "id": "5FfS2-2il2AB",
        "outputId": "f306ef9b-d90e-4c81-d29e-d2ace2ae714f"
      },
      "execution_count": 82,
      "outputs": [
        {
          "output_type": "execute_result",
          "data": {
            "text/plain": [
              "{'Big data', 'Data', 'ML', 'Python', 'ai'}"
            ]
          },
          "metadata": {},
          "execution_count": 82
        }
      ]
    },
    {
      "cell_type": "markdown",
      "source": [
        "# **Section 5.3.4: Add Function in A Set**"
      ],
      "metadata": {
        "id": "thR-6J5pl525"
      }
    },
    {
      "cell_type": "code",
      "source": [
        "#add function\n",
        "s5.add('deep learning')\n",
        "s5"
      ],
      "metadata": {
        "colab": {
          "base_uri": "https://localhost:8080/"
        },
        "id": "cDYvLgZ0l9aZ",
        "outputId": "829de82a-346f-4bd8-e4b0-8466229ad9a8"
      },
      "execution_count": 83,
      "outputs": [
        {
          "output_type": "execute_result",
          "data": {
            "text/plain": [
              "{'Big data', 'Data', 'ML', 'Python', 'ai', 'deep learning'}"
            ]
          },
          "metadata": {},
          "execution_count": 83
        }
      ]
    },
    {
      "cell_type": "code",
      "source": [
        "\n",
        "s2\n",
        "s2.add(10)\n",
        "s2"
      ],
      "metadata": {
        "colab": {
          "base_uri": "https://localhost:8080/"
        },
        "id": "oDypZtnUmARX",
        "outputId": "990cc895-d876-4055-ce4b-4464d6bc569c"
      },
      "execution_count": 84,
      "outputs": [
        {
          "output_type": "execute_result",
          "data": {
            "text/plain": [
              "{-10, 0, 2.2, 5, 10, 20, 88, 99}"
            ]
          },
          "metadata": {},
          "execution_count": 84
        }
      ]
    },
    {
      "cell_type": "markdown",
      "source": [
        "# **Section 5.3.5: Remove Function in A Set**"
      ],
      "metadata": {
        "id": "9ejtY8j9mGOE"
      }
    },
    {
      "cell_type": "code",
      "source": [
        "\n",
        "# Remove function\n",
        "s2.remove(88)\n",
        "s2"
      ],
      "metadata": {
        "colab": {
          "base_uri": "https://localhost:8080/"
        },
        "id": "Fkz1wPd2mDai",
        "outputId": "0e48f3bb-b31a-4bd5-e1dd-c77768d54490"
      },
      "execution_count": 85,
      "outputs": [
        {
          "output_type": "execute_result",
          "data": {
            "text/plain": [
              "{-10, 0, 2.2, 5, 10, 20, 99}"
            ]
          },
          "metadata": {},
          "execution_count": 85
        }
      ]
    },
    {
      "cell_type": "markdown",
      "source": [
        "# **Section 5.3.6: Intersection in a set**\n",
        "Intersection in a set is used to find common elements between two sets."
      ],
      "metadata": {
        "id": "oO5hgo6SmNeu"
      }
    },
    {
      "cell_type": "code",
      "source": [
        "\n",
        "#intersection\n",
        "#common item in 2 sets\n",
        "\n",
        "set_a = {1,3,5,7,8,9,10,11,12,13,14}  #actual result\n",
        "set_b = {1,2,3,4,5,6,7,8,9,10,11}  #predicted result\n",
        "\n",
        "set_a.intersection(set_b)"
      ],
      "metadata": {
        "colab": {
          "base_uri": "https://localhost:8080/"
        },
        "id": "RkrbRaXXmK2I",
        "outputId": "f329c77d-c5d3-48e8-eac1-ecc752679a41"
      },
      "execution_count": 86,
      "outputs": [
        {
          "output_type": "execute_result",
          "data": {
            "text/plain": [
              "{1, 3, 5, 7, 8, 9, 10, 11}"
            ]
          },
          "metadata": {},
          "execution_count": 86
        }
      ]
    },
    {
      "cell_type": "markdown",
      "source": [
        "# **Section 5.3.7: Union Function in a set**\n",
        "Combining two sets"
      ],
      "metadata": {
        "id": "RXaSAALqnQg0"
      }
    },
    {
      "cell_type": "code",
      "source": [
        "#union\n",
        "\n",
        "set_a.union(set_b)"
      ],
      "metadata": {
        "colab": {
          "base_uri": "https://localhost:8080/"
        },
        "id": "TehxPYxHnKhW",
        "outputId": "dec4d25d-d587-4d3e-9fab-d4a981c13b77"
      },
      "execution_count": 87,
      "outputs": [
        {
          "output_type": "execute_result",
          "data": {
            "text/plain": [
              "{1, 2, 3, 4, 5, 6, 7, 8, 9, 10, 11, 12, 13, 14}"
            ]
          },
          "metadata": {},
          "execution_count": 87
        }
      ]
    },
    {
      "cell_type": "markdown",
      "source": [
        "# **Section 5.3.8: Converting a set into a list**"
      ],
      "metadata": {
        "id": "HLn1oxWhnaAs"
      }
    },
    {
      "cell_type": "code",
      "source": [
        "\n",
        "list_a = [1,2,3,4,1,2,5]\n",
        "set_list_a = set(list_a)\n",
        "set_list_a"
      ],
      "metadata": {
        "colab": {
          "base_uri": "https://localhost:8080/"
        },
        "id": "4t1LR8TgnX9G",
        "outputId": "11eab978-204d-49fd-86ec-5b70442559c3"
      },
      "execution_count": 88,
      "outputs": [
        {
          "output_type": "execute_result",
          "data": {
            "text/plain": [
              "{1, 2, 3, 4, 5}"
            ]
          },
          "metadata": {},
          "execution_count": 88
        }
      ]
    },
    {
      "cell_type": "code",
      "source": [
        "\n",
        "#write a code to find the highest value in a set of numbers by using set only\n",
        "\n",
        "list_b = [100,-99, 101, 88, 55.6, 0]\n",
        "set_list_b = set(list_b) #Converting list into a set\n",
        "set_list_b"
      ],
      "metadata": {
        "colab": {
          "base_uri": "https://localhost:8080/"
        },
        "id": "FoMeEIc3nfOO",
        "outputId": "feeb0a84-f644-4b1e-ecd5-c91a094d6b36"
      },
      "execution_count": 89,
      "outputs": [
        {
          "output_type": "execute_result",
          "data": {
            "text/plain": [
              "{-99, 0, 55.6, 88, 100, 101}"
            ]
          },
          "metadata": {},
          "execution_count": 89
        }
      ]
    },
    {
      "cell_type": "code",
      "source": [
        "print(max(set_list_b)) #Finding the highest value in the set"
      ],
      "metadata": {
        "colab": {
          "base_uri": "https://localhost:8080/"
        },
        "id": "c59NBPphnksW",
        "outputId": "8df5e3f8-6892-426a-c9f5-03f9f1ad5cfe"
      },
      "execution_count": 90,
      "outputs": [
        {
          "output_type": "stream",
          "name": "stdout",
          "text": [
            "101\n"
          ]
        }
      ]
    },
    {
      "cell_type": "markdown",
      "source": [
        "# **Section 5.3.9: Difference Function in a set**\n",
        "The difference or symbol '-' function for sets is used to find the elements that are present in one set but not in another. It returns a new set containing the difference between two or more sets."
      ],
      "metadata": {
        "id": "KQnvQV6KnmUY"
      }
    },
    {
      "cell_type": "markdown",
      "source": [
        "**Method 1: Using '-' symbol to find difference between a set**"
      ],
      "metadata": {
        "id": "lAyT4bAbnsQp"
      }
    },
    {
      "cell_type": "code",
      "source": [
        "\n",
        "difference_set = set_a - set_b\n",
        "print(difference_set)"
      ],
      "metadata": {
        "colab": {
          "base_uri": "https://localhost:8080/"
        },
        "id": "36XxvvOZnvJm",
        "outputId": "460a0e24-82e9-492d-f32f-fd79a1ced6e4"
      },
      "execution_count": 91,
      "outputs": [
        {
          "output_type": "stream",
          "name": "stdout",
          "text": [
            "{12, 13, 14}\n"
          ]
        }
      ]
    },
    {
      "cell_type": "markdown",
      "source": [
        "**Method 2: using '.difference' function to find difference between a set**"
      ],
      "metadata": {
        "id": "t15Eh1v2ny-m"
      }
    },
    {
      "cell_type": "code",
      "source": [
        "\n",
        "print(set_a)\n",
        "print(set_b)"
      ],
      "metadata": {
        "colab": {
          "base_uri": "https://localhost:8080/"
        },
        "id": "-ZHPI4Mon1L-",
        "outputId": "3d0fef63-3f42-4781-c9f5-be3deb475b9a"
      },
      "execution_count": 92,
      "outputs": [
        {
          "output_type": "stream",
          "name": "stdout",
          "text": [
            "{1, 3, 5, 7, 8, 9, 10, 11, 12, 13, 14}\n",
            "{1, 2, 3, 4, 5, 6, 7, 8, 9, 10, 11}\n"
          ]
        }
      ]
    },
    {
      "cell_type": "markdown",
      "source": [
        "**Difference also use to identify misprediction**\n",
        "\n",
        "set_a = represents the actual results\n",
        "\n",
        "set_b = represents the predicted results\n",
        "\n",
        "**Finding Misprediction:**\n",
        "\n",
        "set_a.difference(set_b) will find items that are in set_a but not in set_b. These items are considered mispredictions because they are actual results that the model failed to recognize."
      ],
      "metadata": {
        "id": "apnhnBzxn5eg"
      }
    },
    {
      "cell_type": "code",
      "source": [
        "#items in set a but not in set b  is considered misprediction\n",
        "\n",
        "set_a.difference(set_b)  #actual result but, model cant recognize the result"
      ],
      "metadata": {
        "colab": {
          "base_uri": "https://localhost:8080/"
        },
        "id": "aMxQfoinn-if",
        "outputId": "bb7f9299-7d95-4ae1-e61b-9ca9f681c65c"
      },
      "execution_count": 93,
      "outputs": [
        {
          "output_type": "execute_result",
          "data": {
            "text/plain": [
              "{12, 13, 14}"
            ]
          },
          "metadata": {},
          "execution_count": 93
        }
      ]
    },
    {
      "cell_type": "markdown",
      "source": [
        "**Irrelevant Difference:**\n",
        "\n",
        "set_b.difference(set_a) finds items that are in set_b but not in set_a. These items are not relevant to identifying mispredictions of the actual results, as they indicate predictions made by the model that are not present in the actual results."
      ],
      "metadata": {
        "id": "TnnG3WV7oFCB"
      }
    },
    {
      "cell_type": "code",
      "source": [
        "\n",
        "set_b.difference(set_a)  #not related to actual result and not correctly predicted"
      ],
      "metadata": {
        "colab": {
          "base_uri": "https://localhost:8080/"
        },
        "id": "vznU9TjioGzn",
        "outputId": "100c38cb-d508-4b0e-a4b7-eff6280eb0bc"
      },
      "execution_count": 94,
      "outputs": [
        {
          "output_type": "execute_result",
          "data": {
            "text/plain": [
              "{2, 4, 6}"
            ]
          },
          "metadata": {},
          "execution_count": 94
        }
      ]
    },
    {
      "cell_type": "markdown",
      "source": [
        "# **Section 5.4: Dictionary {Key:Value}**\n",
        "\n",
        "\n",
        "\n",
        "*   Each item represent 2 things, {key:value}.\n",
        "*   Dictionary: {key1:value1, key2;value2,.... keyn:valuen}\n",
        "*   Function: items refer to other item. data can present other data.\n",
        "*   Example - name: mobile number\n",
        "*   Index of the item for dictionary is the key(unique value)\n",
        "\n",
        "\n",
        "\n",
        "\n",
        "\n",
        "\n"
      ],
      "metadata": {
        "id": "2XsxlbLPoJV2"
      }
    },
    {
      "cell_type": "markdown",
      "source": [
        "# **Section 5.4.1: Defining the dictionary**"
      ],
      "metadata": {
        "id": "kv3_5yQHohW9"
      }
    },
    {
      "cell_type": "code",
      "source": [
        "\n",
        "#Defining d1\n",
        "d1 = {'AI':99, 8.8:['ML', 'DL'], (1,2,3):['Big Data']}\n",
        "d1"
      ],
      "metadata": {
        "colab": {
          "base_uri": "https://localhost:8080/"
        },
        "id": "6UF6dPU_okjt",
        "outputId": "c1125bba-30ff-456b-f342-8cb5a58b6d6d"
      },
      "execution_count": 95,
      "outputs": [
        {
          "output_type": "execute_result",
          "data": {
            "text/plain": [
              "{'AI': 99, 8.8: ['ML', 'DL'], (1, 2, 3): ['Big Data']}"
            ]
          },
          "metadata": {},
          "execution_count": 95
        }
      ]
    },
    {
      "cell_type": "code",
      "source": [
        "\n",
        "type(d1)"
      ],
      "metadata": {
        "colab": {
          "base_uri": "https://localhost:8080/"
        },
        "id": "lnSlDJ4xooXW",
        "outputId": "d3aaa17d-b148-4a2a-ee5b-599b2177db5e"
      },
      "execution_count": 96,
      "outputs": [
        {
          "output_type": "execute_result",
          "data": {
            "text/plain": [
              "dict"
            ]
          },
          "metadata": {},
          "execution_count": 96
        }
      ]
    },
    {
      "cell_type": "markdown",
      "source": [
        "# **Section 5.4.2: Finding value of the key**"
      ],
      "metadata": {
        "id": "0KDzIj5sotUR"
      }
    },
    {
      "cell_type": "code",
      "source": [
        "#Finding the value of the key\n",
        "d1[(1,2,3)]"
      ],
      "metadata": {
        "colab": {
          "base_uri": "https://localhost:8080/"
        },
        "id": "Y3385rILox-d",
        "outputId": "396cb7fa-a5be-45ff-c72b-dec19827e5e8"
      },
      "execution_count": 97,
      "outputs": [
        {
          "output_type": "execute_result",
          "data": {
            "text/plain": [
              "['Big Data']"
            ]
          },
          "metadata": {},
          "execution_count": 97
        }
      ]
    },
    {
      "cell_type": "code",
      "source": [
        "\n",
        "#calling the values of the keys\n",
        "d1.values()"
      ],
      "metadata": {
        "colab": {
          "base_uri": "https://localhost:8080/"
        },
        "id": "keDYWi2zo0Vd",
        "outputId": "a68becbb-6d19-498d-ebfc-9c1c3b7ec836"
      },
      "execution_count": 98,
      "outputs": [
        {
          "output_type": "execute_result",
          "data": {
            "text/plain": [
              "dict_values([99, ['ML', 'DL'], ['Big Data']])"
            ]
          },
          "metadata": {},
          "execution_count": 98
        }
      ]
    },
    {
      "cell_type": "markdown",
      "source": [
        "# **Section 5.4.3: Finding the key name**"
      ],
      "metadata": {
        "id": "ehNUWJw_o3tl"
      }
    },
    {
      "cell_type": "code",
      "source": [
        "\n",
        "#calling the keys\n",
        "d1.keys()"
      ],
      "metadata": {
        "colab": {
          "base_uri": "https://localhost:8080/"
        },
        "id": "oAKcakoBo7HY",
        "outputId": "3d888bab-3da3-49f6-ccb6-0d4d86b11afe"
      },
      "execution_count": 99,
      "outputs": [
        {
          "output_type": "execute_result",
          "data": {
            "text/plain": [
              "dict_keys(['AI', 8.8, (1, 2, 3)])"
            ]
          },
          "metadata": {},
          "execution_count": 99
        }
      ]
    },
    {
      "cell_type": "markdown",
      "source": [
        "# **Section 5.4.4: Updating Value of A Key**"
      ],
      "metadata": {
        "id": "4aZHjCxSpBZ3"
      }
    },
    {
      "cell_type": "code",
      "source": [
        "\n",
        "#change value of a key\n",
        "\n",
        "d1['AI'] = -10 #updated key\n",
        "d1\n",
        ""
      ],
      "metadata": {
        "colab": {
          "base_uri": "https://localhost:8080/"
        },
        "id": "PUtMDA0mpG0f",
        "outputId": "5e0eef9f-69fd-40ce-e7bc-c8fbc3a0fde8"
      },
      "execution_count": 100,
      "outputs": [
        {
          "output_type": "execute_result",
          "data": {
            "text/plain": [
              "{'AI': -10, 8.8: ['ML', 'DL'], (1, 2, 3): ['Big Data']}"
            ]
          },
          "metadata": {},
          "execution_count": 100
        }
      ]
    },
    {
      "cell_type": "markdown",
      "source": [
        "# **Section 5.4.5: Delete function in dictionary (.pop)**"
      ],
      "metadata": {
        "id": "PWfcc7MXpJ0H"
      }
    },
    {
      "cell_type": "code",
      "source": [
        "\n",
        "#delete an item.\n",
        "\n",
        "d1.pop((1, 2, 3))\n",
        "d1"
      ],
      "metadata": {
        "colab": {
          "base_uri": "https://localhost:8080/"
        },
        "id": "ZArJcjdUpL8O",
        "outputId": "ec625ea5-f50c-4dd1-efdb-5458fbe0683e"
      },
      "execution_count": 101,
      "outputs": [
        {
          "output_type": "execute_result",
          "data": {
            "text/plain": [
              "{'AI': -10, 8.8: ['ML', 'DL']}"
            ]
          },
          "metadata": {},
          "execution_count": 101
        }
      ]
    },
    {
      "cell_type": "markdown",
      "source": [
        "# **Section 5.4.6: Key is Unique**"
      ],
      "metadata": {
        "id": "QFQk8EfVpSr1"
      }
    },
    {
      "cell_type": "markdown",
      "source": [
        "**ERROR ALERT!!!**\n",
        "\n",
        "\n",
        "\n",
        "*   Key must be unique (immutable)\n",
        "*   Here we can see that d2 defines a list [ ] as a key -- { [1,2] :99} (WRONG)\n",
        "*   Where it should have been a tuple ( ) (because tuple is immutable) -- {(1,2):99] (CORRECT)\n",
        "\n",
        "\n",
        "\n",
        "\n",
        "\n"
      ],
      "metadata": {
        "id": "LTup89f3pYiN"
      }
    },
    {
      "cell_type": "code",
      "source": [
        "\n",
        "d2 = {[1,2]:99, (100,200):['maryam']}\n",
        "d2\n",
        "\n",
        "#error: because list is mutable. it is not unique. key must be unique"
      ],
      "metadata": {
        "colab": {
          "base_uri": "https://localhost:8080/",
          "height": 193
        },
        "id": "7zUKcGaqpoiu",
        "outputId": "d02605f6-2370-4484-fb51-da15961bc222"
      },
      "execution_count": 102,
      "outputs": [
        {
          "output_type": "error",
          "ename": "TypeError",
          "evalue": "unhashable type: 'list'",
          "traceback": [
            "\u001b[0;31m---------------------------------------------------------------------------\u001b[0m",
            "\u001b[0;31mTypeError\u001b[0m                                 Traceback (most recent call last)",
            "\u001b[0;32m<ipython-input-102-340e4f865167>\u001b[0m in \u001b[0;36m<cell line: 1>\u001b[0;34m()\u001b[0m\n\u001b[0;32m----> 1\u001b[0;31m \u001b[0md2\u001b[0m \u001b[0;34m=\u001b[0m \u001b[0;34m{\u001b[0m\u001b[0;34m[\u001b[0m\u001b[0;36m1\u001b[0m\u001b[0;34m,\u001b[0m\u001b[0;36m2\u001b[0m\u001b[0;34m]\u001b[0m\u001b[0;34m:\u001b[0m\u001b[0;36m99\u001b[0m\u001b[0;34m,\u001b[0m \u001b[0;34m(\u001b[0m\u001b[0;36m100\u001b[0m\u001b[0;34m,\u001b[0m\u001b[0;36m200\u001b[0m\u001b[0;34m)\u001b[0m\u001b[0;34m:\u001b[0m\u001b[0;34m[\u001b[0m\u001b[0;34m'maryam'\u001b[0m\u001b[0;34m]\u001b[0m\u001b[0;34m}\u001b[0m\u001b[0;34m\u001b[0m\u001b[0;34m\u001b[0m\u001b[0m\n\u001b[0m\u001b[1;32m      2\u001b[0m \u001b[0md2\u001b[0m\u001b[0;34m\u001b[0m\u001b[0;34m\u001b[0m\u001b[0m\n\u001b[1;32m      3\u001b[0m \u001b[0;34m\u001b[0m\u001b[0m\n\u001b[1;32m      4\u001b[0m \u001b[0;31m#error: because list is mutable. it is not unique. key must be unique\u001b[0m\u001b[0;34m\u001b[0m\u001b[0;34m\u001b[0m\u001b[0m\n",
            "\u001b[0;31mTypeError\u001b[0m: unhashable type: 'list'"
          ]
        }
      ]
    },
    {
      "cell_type": "markdown",
      "source": [
        "**The correct way to define a key:**"
      ],
      "metadata": {
        "id": "drzxqCExprbZ"
      }
    },
    {
      "cell_type": "code",
      "source": [
        "\n",
        "d3 = {(1,2):99, (100,200):['maryam']}\n",
        "d3"
      ],
      "metadata": {
        "colab": {
          "base_uri": "https://localhost:8080/"
        },
        "id": "Kmx1zhs3psqq",
        "outputId": "f00327a5-6ee9-441f-dc93-5b1318505cb2"
      },
      "execution_count": 103,
      "outputs": [
        {
          "output_type": "execute_result",
          "data": {
            "text/plain": [
              "{(1, 2): 99, (100, 200): ['maryam']}"
            ]
          },
          "metadata": {},
          "execution_count": 103
        }
      ]
    }
  ]
}